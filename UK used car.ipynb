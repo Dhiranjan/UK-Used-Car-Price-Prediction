{
 "cells": [
  {
   "cell_type": "markdown",
   "metadata": {},
   "source": [
    "#### Data set contains information of price, transmission, mileage, fuel type, road tax, miles per gallon (mpg), and engine size"
   ]
  },
  {
   "cell_type": "code",
<<<<<<< HEAD
   "execution_count": 16,
=======
   "execution_count": 4,
>>>>>>> 6676307832fbc8305473b958c0cf457fc842081e
   "metadata": {},
   "outputs": [],
   "source": [
    "import pandas as pd\n",
    "import numpy as np\n",
    "import matplotlib.pyplot as plt\n",
    "import seaborn as sns\n",
    "%matplotlib inline\n",
    "\n",
    "import os\n",
<<<<<<< HEAD
    "import glob"
=======
    "import glob\n",
    "os.chdir(\"data\")"
>>>>>>> 6676307832fbc8305473b958c0cf457fc842081e
   ]
  },
  {
   "cell_type": "code",
<<<<<<< HEAD
   "execution_count": 62,
   "metadata": {},
   "outputs": [
    {
     "name": "stderr",
     "output_type": "stream",
     "text": [
      "/opt/anaconda3/lib/python3.7/site-packages/IPython/core/interactiveshell.py:3058: DtypeWarning: Columns (2,4) have mixed types.Specify dtype option on import or set low_memory=False.\n",
      "  interactivity=interactivity, compiler=compiler, result=result)\n"
     ]
    }
   ],
   "source": [
    "df = pd.read_csv('./data/audi.csv')\n",
    "files = [file for file in os.listdir(\"./data\")]\n",
    "all_data = pd.DataFrame()\n",
    "\n",
    "for file in files:\n",
    "    df = pd.read_csv(\"./data/\"+file)\n",
    "    all_data = pd.concat([all_data,df])\n",
    "all_data.to_csv('final.csv', index=False)"
=======
   "execution_count": 7,
   "metadata": {},
   "outputs": [],
   "source": [
    "#Combine all CSVs to single file.\n",
    "extension = \"csv\"\n",
    "all_filenames = [i for i in glob.glob('*.{}'.format(extension))]\n",
    "#combine all files in the list\n",
    "combined = pd.concat([pd.read_csv(f) for f in all_filenames ])\n",
    "#export to csv\n",
    "combined.to_csv( \"combined.csv\", index=False, encoding='utf-8-sig')"
>>>>>>> 6676307832fbc8305473b958c0cf457fc842081e
   ]
  },
  {
   "cell_type": "code",
<<<<<<< HEAD
   "execution_count": 63,
=======
   "execution_count": 8,
>>>>>>> 6676307832fbc8305473b958c0cf457fc842081e
   "metadata": {},
   "outputs": [
    {
     "name": "stderr",
     "output_type": "stream",
     "text": [
<<<<<<< HEAD
      "/opt/anaconda3/lib/python3.7/site-packages/IPython/core/interactiveshell.py:3249: DtypeWarning: Columns (2,4) have mixed types.Specify dtype option on import or set low_memory=False.\n",
      "  if (await self.run_code(code, result,  async_=asy)):\n"
     ]
    }
   ],
   "source": [
    "dfs = glob.glob('data/*.csv')\n",
    "\n",
    "result = pd.concat([pd.read_csv(df) for df in dfs],join='inner')\n",
    "\n",
    "result.to_csv('data/merge.csv', index=False)"
   ]
  },
  {
   "cell_type": "code",
   "execution_count": 64,
   "metadata": {},
   "outputs": [
=======
      "/opt/anaconda3/lib/python3.7/site-packages/IPython/core/interactiveshell.py:3058: DtypeWarning: Columns (2,4,10,11,12,13,14,15) have mixed types.Specify dtype option on import or set low_memory=False.\n",
      "  interactivity=interactivity, compiler=compiler, result=result)\n"
     ]
    },
>>>>>>> 6676307832fbc8305473b958c0cf457fc842081e
    {
     "data": {
      "text/html": [
       "<div>\n",
       "<style scoped>\n",
       "    .dataframe tbody tr th:only-of-type {\n",
       "        vertical-align: middle;\n",
       "    }\n",
       "\n",
       "    .dataframe tbody tr th {\n",
       "        vertical-align: top;\n",
       "    }\n",
       "\n",
       "    .dataframe thead th {\n",
       "        text-align: right;\n",
       "    }\n",
       "</style>\n",
       "<table border=\"1\" class=\"dataframe\">\n",
       "  <thead>\n",
       "    <tr style=\"text-align: right;\">\n",
       "      <th></th>\n",
       "      <th>model</th>\n",
       "      <th>year</th>\n",
       "      <th>price</th>\n",
       "      <th>transmission</th>\n",
       "      <th>mileage</th>\n",
<<<<<<< HEAD
=======
       "      <th>fuelType</th>\n",
       "      <th>tax</th>\n",
       "      <th>mpg</th>\n",
       "      <th>engineSize</th>\n",
       "      <th>tax(£)</th>\n",
       "      <th>fuel type</th>\n",
       "      <th>engine size</th>\n",
       "      <th>mileage2</th>\n",
       "      <th>fuel type2</th>\n",
       "      <th>engine size2</th>\n",
       "      <th>reference</th>\n",
>>>>>>> 6676307832fbc8305473b958c0cf457fc842081e
       "    </tr>\n",
       "  </thead>\n",
       "  <tbody>\n",
       "    <tr>\n",
       "      <th>0</th>\n",
       "      <td>A1</td>\n",
       "      <td>2017.0</td>\n",
       "      <td>12500</td>\n",
       "      <td>Manual</td>\n",
       "      <td>15735</td>\n",
<<<<<<< HEAD
=======
       "      <td>Petrol</td>\n",
       "      <td>150.0</td>\n",
       "      <td>55.4</td>\n",
       "      <td>1.4</td>\n",
       "      <td>NaN</td>\n",
       "      <td>NaN</td>\n",
       "      <td>NaN</td>\n",
       "      <td>NaN</td>\n",
       "      <td>NaN</td>\n",
       "      <td>NaN</td>\n",
       "      <td>NaN</td>\n",
>>>>>>> 6676307832fbc8305473b958c0cf457fc842081e
       "    </tr>\n",
       "    <tr>\n",
       "      <th>1</th>\n",
       "      <td>A6</td>\n",
       "      <td>2016.0</td>\n",
       "      <td>16500</td>\n",
       "      <td>Automatic</td>\n",
       "      <td>36203</td>\n",
<<<<<<< HEAD
=======
       "      <td>Diesel</td>\n",
       "      <td>20.0</td>\n",
       "      <td>64.2</td>\n",
       "      <td>2.0</td>\n",
       "      <td>NaN</td>\n",
       "      <td>NaN</td>\n",
       "      <td>NaN</td>\n",
       "      <td>NaN</td>\n",
       "      <td>NaN</td>\n",
       "      <td>NaN</td>\n",
       "      <td>NaN</td>\n",
>>>>>>> 6676307832fbc8305473b958c0cf457fc842081e
       "    </tr>\n",
       "    <tr>\n",
       "      <th>2</th>\n",
       "      <td>A1</td>\n",
       "      <td>2016.0</td>\n",
       "      <td>11000</td>\n",
       "      <td>Manual</td>\n",
       "      <td>29946</td>\n",
<<<<<<< HEAD
=======
       "      <td>Petrol</td>\n",
       "      <td>30.0</td>\n",
       "      <td>55.4</td>\n",
       "      <td>1.4</td>\n",
       "      <td>NaN</td>\n",
       "      <td>NaN</td>\n",
       "      <td>NaN</td>\n",
       "      <td>NaN</td>\n",
       "      <td>NaN</td>\n",
       "      <td>NaN</td>\n",
       "      <td>NaN</td>\n",
>>>>>>> 6676307832fbc8305473b958c0cf457fc842081e
       "    </tr>\n",
       "    <tr>\n",
       "      <th>3</th>\n",
       "      <td>A4</td>\n",
       "      <td>2017.0</td>\n",
       "      <td>16800</td>\n",
       "      <td>Automatic</td>\n",
       "      <td>25952</td>\n",
<<<<<<< HEAD
=======
       "      <td>Diesel</td>\n",
       "      <td>145.0</td>\n",
       "      <td>67.3</td>\n",
       "      <td>2.0</td>\n",
       "      <td>NaN</td>\n",
       "      <td>NaN</td>\n",
       "      <td>NaN</td>\n",
       "      <td>NaN</td>\n",
       "      <td>NaN</td>\n",
       "      <td>NaN</td>\n",
       "      <td>NaN</td>\n",
>>>>>>> 6676307832fbc8305473b958c0cf457fc842081e
       "    </tr>\n",
       "    <tr>\n",
       "      <th>4</th>\n",
       "      <td>A3</td>\n",
       "      <td>2019.0</td>\n",
       "      <td>17300</td>\n",
       "      <td>Manual</td>\n",
       "      <td>1998</td>\n",
<<<<<<< HEAD
=======
       "      <td>Petrol</td>\n",
       "      <td>145.0</td>\n",
       "      <td>49.6</td>\n",
       "      <td>1.0</td>\n",
       "      <td>NaN</td>\n",
       "      <td>NaN</td>\n",
       "      <td>NaN</td>\n",
       "      <td>NaN</td>\n",
       "      <td>NaN</td>\n",
       "      <td>NaN</td>\n",
       "      <td>NaN</td>\n",
>>>>>>> 6676307832fbc8305473b958c0cf457fc842081e
       "    </tr>\n",
       "  </tbody>\n",
       "</table>\n",
       "</div>"
      ],
      "text/plain": [
<<<<<<< HEAD
       "  model    year  price transmission mileage\n",
       "0    A1  2017.0  12500       Manual   15735\n",
       "1    A6  2016.0  16500    Automatic   36203\n",
       "2    A1  2016.0  11000       Manual   29946\n",
       "3    A4  2017.0  16800    Automatic   25952\n",
       "4    A3  2019.0  17300       Manual    1998"
      ]
     },
     "execution_count": 64,
=======
       "  model    year  price transmission mileage fuelType    tax   mpg  engineSize  \\\n",
       "0    A1  2017.0  12500       Manual   15735   Petrol  150.0  55.4         1.4   \n",
       "1    A6  2016.0  16500    Automatic   36203   Diesel   20.0  64.2         2.0   \n",
       "2    A1  2016.0  11000       Manual   29946   Petrol   30.0  55.4         1.4   \n",
       "3    A4  2017.0  16800    Automatic   25952   Diesel  145.0  67.3         2.0   \n",
       "4    A3  2019.0  17300       Manual    1998   Petrol  145.0  49.6         1.0   \n",
       "\n",
       "   tax(£) fuel type engine size mileage2 fuel type2 engine size2 reference  \n",
       "0     NaN       NaN         NaN      NaN        NaN          NaN       NaN  \n",
       "1     NaN       NaN         NaN      NaN        NaN          NaN       NaN  \n",
       "2     NaN       NaN         NaN      NaN        NaN          NaN       NaN  \n",
       "3     NaN       NaN         NaN      NaN        NaN          NaN       NaN  \n",
       "4     NaN       NaN         NaN      NaN        NaN          NaN       NaN  "
      ]
     },
     "execution_count": 8,
>>>>>>> 6676307832fbc8305473b958c0cf457fc842081e
     "metadata": {},
     "output_type": "execute_result"
    }
   ],
   "source": [
<<<<<<< HEAD
    "df = pd.read_csv('data/merge.csv')\n",
=======
    "df = pd.read_csv(\"combined.csv\")\n",
>>>>>>> 6676307832fbc8305473b958c0cf457fc842081e
    "df.head()"
   ]
  },
  {
   "cell_type": "code",
<<<<<<< HEAD
   "execution_count": 65,
   "metadata": {},
   "outputs": [
    {
     "data": {
      "text/plain": [
       "['model', 'year', 'price', 'transmission', 'mileage']"
      ]
     },
     "execution_count": 65,
     "metadata": {},
     "output_type": "execute_result"
    }
   ],
   "source": [
    "df.columns.to_list()"
   ]
  },
  {
   "cell_type": "code",
   "execution_count": 108,
   "metadata": {},
   "outputs": [
    {
     "data": {
      "text/plain": [
       "1         audi\n",
       "2          bmw\n",
       "3       cclass\n",
       "4        focus\n",
       "5         ford\n",
       "6       hyundi\n",
       "7         merc\n",
       "8        merge\n",
       "9        skoda\n",
       "10      toyota\n",
       "11    vauxhall\n",
       "dtype: object"
      ]
     },
     "execution_count": 108,
     "metadata": {},
     "output_type": "execute_result"
    }
   ],
   "source": [
    "manufac= {}\n",
    "file_name = pd.Series(os.listdir('data')).str.split('.')[1:12].str[0]\n",
    "file_name"
   ]
  },
  {
   "cell_type": "code",
   "execution_count": 118,
   "metadata": {},
   "outputs": [],
   "source": [
    "def manufracture(x):\n",
    "    a = pd.read_csv('data/'+x)\n",
    "    return a.model.unique()\n",
    "    \n",
    "for i in file_name:\n",
    "    manufac[i.title()] = manufracture(i+'.csv')"
   ]
  },
  {
   "cell_type": "code",
   "execution_count": 137,
   "metadata": {},
   "outputs": [],
   "source": [
    "for mf in manufac:\n",
    "    for i in manufac[mf]:\n",
    "        if i in df.model:\n",
    "            df['manufracture'] = mf"
   ]
  },
  {
   "cell_type": "code",
   "execution_count": 138,
=======
   "execution_count": 10,
>>>>>>> 6676307832fbc8305473b958c0cf457fc842081e
   "metadata": {},
   "outputs": [
    {
     "data": {
      "text/html": [
       "<div>\n",
       "<style scoped>\n",
       "    .dataframe tbody tr th:only-of-type {\n",
       "        vertical-align: middle;\n",
       "    }\n",
       "\n",
       "    .dataframe tbody tr th {\n",
       "        vertical-align: top;\n",
       "    }\n",
       "\n",
       "    .dataframe thead th {\n",
       "        text-align: right;\n",
       "    }\n",
       "</style>\n",
       "<table border=\"1\" class=\"dataframe\">\n",
       "  <thead>\n",
       "    <tr style=\"text-align: right;\">\n",
       "      <th></th>\n",
       "      <th>model</th>\n",
       "      <th>year</th>\n",
       "      <th>price</th>\n",
       "      <th>transmission</th>\n",
       "      <th>mileage</th>\n",
<<<<<<< HEAD
=======
       "      <th>fuelType</th>\n",
       "      <th>tax</th>\n",
       "      <th>mpg</th>\n",
       "      <th>engineSize</th>\n",
       "      <th>tax(£)</th>\n",
       "      <th>fuel type</th>\n",
       "      <th>engine size</th>\n",
       "      <th>mileage2</th>\n",
       "      <th>fuel type2</th>\n",
       "      <th>engine size2</th>\n",
       "      <th>reference</th>\n",
>>>>>>> 6676307832fbc8305473b958c0cf457fc842081e
       "    </tr>\n",
       "  </thead>\n",
       "  <tbody>\n",
       "    <tr>\n",
<<<<<<< HEAD
       "      <th>0</th>\n",
       "      <td>A1</td>\n",
       "      <td>2017.0</td>\n",
       "      <td>12500</td>\n",
       "      <td>Manual</td>\n",
       "      <td>15735</td>\n",
       "    </tr>\n",
       "    <tr>\n",
       "      <th>1</th>\n",
       "      <td>A6</td>\n",
       "      <td>2016.0</td>\n",
       "      <td>16500</td>\n",
       "      <td>Automatic</td>\n",
       "      <td>36203</td>\n",
       "    </tr>\n",
       "    <tr>\n",
       "      <th>2</th>\n",
       "      <td>A1</td>\n",
       "      <td>2016.0</td>\n",
       "      <td>11000</td>\n",
       "      <td>Manual</td>\n",
       "      <td>29946</td>\n",
       "    </tr>\n",
       "    <tr>\n",
       "      <th>3</th>\n",
       "      <td>A4</td>\n",
       "      <td>2017.0</td>\n",
       "      <td>16800</td>\n",
       "      <td>Automatic</td>\n",
       "      <td>25952</td>\n",
       "    </tr>\n",
       "    <tr>\n",
       "      <th>4</th>\n",
       "      <td>A3</td>\n",
       "      <td>2019.0</td>\n",
       "      <td>17300</td>\n",
       "      <td>Manual</td>\n",
       "      <td>1998</td>\n",
=======
       "      <th>236295</th>\n",
       "      <td>Eos</td>\n",
       "      <td>2012.0</td>\n",
       "      <td>5990</td>\n",
       "      <td>Manual</td>\n",
       "      <td>74000</td>\n",
       "      <td>Diesel</td>\n",
       "      <td>125.0</td>\n",
       "      <td>58.9</td>\n",
       "      <td>2.0</td>\n",
       "      <td>NaN</td>\n",
       "      <td>NaN</td>\n",
       "      <td>NaN</td>\n",
       "      <td>NaN</td>\n",
       "      <td>NaN</td>\n",
       "      <td>NaN</td>\n",
       "      <td>NaN</td>\n",
       "    </tr>\n",
       "    <tr>\n",
       "      <th>236296</th>\n",
       "      <td>Fox</td>\n",
       "      <td>2008.0</td>\n",
       "      <td>1799</td>\n",
       "      <td>Manual</td>\n",
       "      <td>88102</td>\n",
       "      <td>Petrol</td>\n",
       "      <td>145.0</td>\n",
       "      <td>46.3</td>\n",
       "      <td>1.2</td>\n",
       "      <td>NaN</td>\n",
       "      <td>NaN</td>\n",
       "      <td>NaN</td>\n",
       "      <td>NaN</td>\n",
       "      <td>NaN</td>\n",
       "      <td>NaN</td>\n",
       "      <td>NaN</td>\n",
       "    </tr>\n",
       "    <tr>\n",
       "      <th>236297</th>\n",
       "      <td>Fox</td>\n",
       "      <td>2009.0</td>\n",
       "      <td>1590</td>\n",
       "      <td>Manual</td>\n",
       "      <td>70000</td>\n",
       "      <td>Petrol</td>\n",
       "      <td>200.0</td>\n",
       "      <td>42.0</td>\n",
       "      <td>1.4</td>\n",
       "      <td>NaN</td>\n",
       "      <td>NaN</td>\n",
       "      <td>NaN</td>\n",
       "      <td>NaN</td>\n",
       "      <td>NaN</td>\n",
       "      <td>NaN</td>\n",
       "      <td>NaN</td>\n",
       "    </tr>\n",
       "    <tr>\n",
       "      <th>236298</th>\n",
       "      <td>Fox</td>\n",
       "      <td>2006.0</td>\n",
       "      <td>1250</td>\n",
       "      <td>Manual</td>\n",
       "      <td>82704</td>\n",
       "      <td>Petrol</td>\n",
       "      <td>150.0</td>\n",
       "      <td>46.3</td>\n",
       "      <td>1.2</td>\n",
       "      <td>NaN</td>\n",
       "      <td>NaN</td>\n",
       "      <td>NaN</td>\n",
       "      <td>NaN</td>\n",
       "      <td>NaN</td>\n",
       "      <td>NaN</td>\n",
       "      <td>NaN</td>\n",
       "    </tr>\n",
       "    <tr>\n",
       "      <th>236299</th>\n",
       "      <td>Fox</td>\n",
       "      <td>2007.0</td>\n",
       "      <td>2295</td>\n",
       "      <td>Manual</td>\n",
       "      <td>74000</td>\n",
       "      <td>Petrol</td>\n",
       "      <td>145.0</td>\n",
       "      <td>46.3</td>\n",
       "      <td>1.2</td>\n",
       "      <td>NaN</td>\n",
       "      <td>NaN</td>\n",
       "      <td>NaN</td>\n",
       "      <td>NaN</td>\n",
       "      <td>NaN</td>\n",
       "      <td>NaN</td>\n",
       "      <td>NaN</td>\n",
>>>>>>> 6676307832fbc8305473b958c0cf457fc842081e
       "    </tr>\n",
       "  </tbody>\n",
       "</table>\n",
       "</div>"
      ],
      "text/plain": [
<<<<<<< HEAD
       "  model    year  price transmission mileage\n",
       "0    A1  2017.0  12500       Manual   15735\n",
       "1    A6  2016.0  16500    Automatic   36203\n",
       "2    A1  2016.0  11000       Manual   29946\n",
       "3    A4  2017.0  16800    Automatic   25952\n",
       "4    A3  2019.0  17300       Manual    1998"
      ]
     },
     "execution_count": 138,
=======
       "       model    year price transmission mileage fuelType    tax   mpg  \\\n",
       "236295   Eos  2012.0  5990       Manual   74000   Diesel  125.0  58.9   \n",
       "236296   Fox  2008.0  1799       Manual   88102   Petrol  145.0  46.3   \n",
       "236297   Fox  2009.0  1590       Manual   70000   Petrol  200.0  42.0   \n",
       "236298   Fox  2006.0  1250       Manual   82704   Petrol  150.0  46.3   \n",
       "236299   Fox  2007.0  2295       Manual   74000   Petrol  145.0  46.3   \n",
       "\n",
       "        engineSize  tax(£) fuel type engine size mileage2 fuel type2  \\\n",
       "236295         2.0     NaN       NaN         NaN      NaN        NaN   \n",
       "236296         1.2     NaN       NaN         NaN      NaN        NaN   \n",
       "236297         1.4     NaN       NaN         NaN      NaN        NaN   \n",
       "236298         1.2     NaN       NaN         NaN      NaN        NaN   \n",
       "236299         1.2     NaN       NaN         NaN      NaN        NaN   \n",
       "\n",
       "       engine size2 reference  \n",
       "236295          NaN       NaN  \n",
       "236296          NaN       NaN  \n",
       "236297          NaN       NaN  \n",
       "236298          NaN       NaN  \n",
       "236299          NaN       NaN  "
      ]
     },
     "execution_count": 10,
>>>>>>> 6676307832fbc8305473b958c0cf457fc842081e
     "metadata": {},
     "output_type": "execute_result"
    }
   ],
   "source": [
<<<<<<< HEAD
    "df.head()"
=======
    "df.tail()"
>>>>>>> 6676307832fbc8305473b958c0cf457fc842081e
   ]
  },
  {
   "cell_type": "code",
   "execution_count": null,
   "metadata": {},
   "outputs": [],
   "source": []
  }
 ],
 "metadata": {
  "kernelspec": {
   "display_name": "Python 3",
   "language": "python",
   "name": "python3"
  },
  "language_info": {
   "codemirror_mode": {
    "name": "ipython",
    "version": 3
   },
   "file_extension": ".py",
   "mimetype": "text/x-python",
   "name": "python",
   "nbconvert_exporter": "python",
   "pygments_lexer": "ipython3",
   "version": "3.7.4"
  }
 },
 "nbformat": 4,
 "nbformat_minor": 2
}
